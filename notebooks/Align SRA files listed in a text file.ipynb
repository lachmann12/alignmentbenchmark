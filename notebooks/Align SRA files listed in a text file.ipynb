{
 "cells": [
  {
   "cell_type": "markdown",
   "metadata": {},
   "source": [
    "# Align SRA files reading SRA ids from a text file\n",
    "\n",
    "This jupyter notebook will align SRA files that are stored in a text file. The notebook supports single and paired reads from human and mouse samples. All files in the text file are however from the same species. Make sure that the correct species is selected before aligning the SRA files. Reads are aligned by kallisto, Salmon, STAR, HISAT2, and BWA and finally aggregated into a gene count matrix.\n",
    "\n",
    "## Requirements\n",
    "\n",
    "- 26GB of memory\n",
    "- 100GB of free disk space\n",
    "- CPU with high thread count (16)"
   ]
  },
  {
   "cell_type": "code",
   "execution_count": null,
   "metadata": {},
   "outputs": [],
   "source": [
    "cd /alignment\n",
    "\n",
    "# the number of threads the aligners should use.\n",
    "thread_num=16\n",
    "\n",
    "mkdir -p sradata\n",
    "mkdir -p quant/combined\n",
    "mkdir -p quant/salmon/\n",
    "mkdir -p quant/kallisto/\n",
    "mkdir -p quant/star/\n",
    "mkdir -p quant/hisat2/\n",
    "mkdir -p time\n",
    "\n",
    "# when using high thread count in STAR there will be a large number of open files. This can lead to errors\n",
    "# set ulimit -n 1024 and it should work with many threads\n",
    "ulimit -n 1024\n",
    "\n",
    "\n",
    "# before we start downloading data we should disable the caching of SRA files\n",
    "# when downloading many files this will quickly end up filling up all disk space otherwise\n",
    "# this command below magically works to disable caching\n",
    "mkdir -p ~/.ncbi\n",
    "echo '/repository/user/cache-disabled = \"true\"' > ~/.ncbi/user-settings.mkfg"
   ]
  },
  {
   "cell_type": "markdown",
   "metadata": {},
   "source": [
    "Select the species that you want the SRA samples to be aligned against and the location of precomputed index files. From \"mssm-genecount-combined\" species \"human\" and \"mouse\" can be retrieved. There is a Jupyter notebook to build new index files."
   ]
  },
  {
   "cell_type": "code",
   "execution_count": null,
   "metadata": {},
   "outputs": [],
   "source": [
    "SPECIES=\"human\"\n",
    "AWS_BUCKET=\"mssm-genecount-combined\""
   ]
  },
  {
   "cell_type": "markdown",
   "metadata": {},
   "source": [
    "Download the precomputed index files. The index files are created from the Ensembl release 96 for the GRCh38 human and GRCm38 mouse reference genome."
   ]
  },
  {
   "cell_type": "code",
   "execution_count": null,
   "metadata": {},
   "outputs": [],
   "source": [
    "scripts/load_index_species.sh ${SPECIES} ${AWS_BUCKET}"
   ]
  },
  {
   "cell_type": "markdown",
   "metadata": {},
   "source": [
    "There are a couple of functions that will be called during the alignment."
   ]
  },
  {
   "cell_type": "code",
   "execution_count": null,
   "metadata": {},
   "outputs": [],
   "source": [
    "center() {\n",
    "  echo \"---------------------------------- ${1} ----------------------------------\"\n",
    "}\n",
    "\n",
    "downloadSRA(){\n",
    "    center \"Download SRA file\"\n",
    "    rm -f sradata/*\n",
    "    fasterq-dump \\\n",
    "        --split-files \\\n",
    "        --outdir $2 \\\n",
    "        -e $thread_num -t \"sradata\" \\\n",
    "        $1\n",
    "}"
   ]
  },
  {
   "cell_type": "markdown",
   "metadata": {},
   "source": [
    "The \"alignFile\" function will iterate over the SRA ids in the input file and submit them to singe read or paired read alignment functions. It will also remove some of the larger files that are generated during the gene quantification process to free available disk space."
   ]
  },
  {
   "cell_type": "code",
   "execution_count": null,
   "metadata": {},
   "outputs": [],
   "source": [
    "alignFile(){\n",
    "    input=$1\n",
    "    while IFS= read -r line\n",
    "    do\n",
    "        SRA_FILE=$line\n",
    "        \n",
    "        printf '%*s\\n' \"${COLUMNS:-$(tput cols)}\" '' | tr ' ' =\n",
    "        center $SRA_FILE\n",
    "        downloadSRA $SRA_FILE \"sradata\"\n",
    "        count=`find sradata -name \"${SRA_FILE}*\" | wc -l`\n",
    "        \n",
    "        if [ \"$count\" -eq \"1\" ];\n",
    "        then\n",
    "            alignSingleSRA $SRA_FILE $2\n",
    "        else\n",
    "            alignPairedSRA $SRA_FILE $2\n",
    "        fi\n",
    "        \n",
    "        rm -f sradata/${SRA_FILE}*\n",
    "        rm -f quant/star/${SRA_FILE}/${SRA_FILE}*.bam\n",
    "        rm -f quant/star/${SRA_FILE}/${SRA_FILE}*.mate1\n",
    "        rm -f quant/star/${SRA_FILE}/${SRA_FILE}*.mate2\n",
    "        rm -f quant/star/${SRA_FILE}/${SRA_FILE}*J.out.tab\n",
    "        rm -f quant/hisat2/${SRA_FILE}/${SRA_FILE}*.sam\n",
    "        rm -f quant/bwa/${SRA_FILE}/${SRA_FILE}*.sam\n",
    "        \n",
    "    done < \"$input\"\n",
    "}"
   ]
  },
  {
   "cell_type": "markdown",
   "metadata": {},
   "source": [
    "The following function alignes single read files using Salmon, kallisto, STAR, HISAT2, and BWA. Once gene counts are computed their counts are aggregated into a combined gene count matrix."
   ]
  },
  {
   "cell_type": "code",
   "execution_count": null,
   "metadata": {},
   "outputs": [],
   "source": [
    "alignSingleSRA(){\n",
    "    SRA_FILE=$1\n",
    "    SPECIES=$2\n",
    "    \n",
    "    center \"Salmon\"\n",
    "    salmon quant -i \"index/salmon/salmon_${SPECIES}_96\" -l A \\\n",
    "        -r \"sradata/${SRA_FILE}.fastq\" \\\n",
    "        -p $thread_num -q --validateMappings -o quant/salmon/$SRA_FILE\n",
    "\n",
    "    center \"kallisto\"\n",
    "    kallisto quant -i index/kallisto/kallisto_${SPECIES}_96.idx \\\n",
    "        -t $thread_num -o quant/kallisto/$SRA_FILE \\\n",
    "        --single -l 180 -s 20 \"sradata/${SRA_FILE}.fastq\"\n",
    "\n",
    "    center \"STAR\"\n",
    "    mkdir -p quant/star/$SRA_FILE\n",
    "\n",
    "    STAR \\\n",
    "        --genomeDir \"index/star/${SPECIES}_96\" \\\n",
    "        --limitBAMsortRAM 10000000000 \\\n",
    "        --runThreadN $thread_num \\\n",
    "        --outSAMstrandField intronMotif \\\n",
    "        --outFilterIntronMotifs RemoveNoncanonical \\\n",
    "        --outFileNamePrefix quant/star/$SRA_FILE/$SRA_FILE \\\n",
    "        --readFilesIn \"sradata/${SRA_FILE}.fastq\" \\\n",
    "        --outSAMtype BAM SortedByCoordinate \\\n",
    "        --outReadsUnmapped Fastx \\\n",
    "        --outSAMmode Full \\\n",
    "        --quantMode GeneCounts \\\n",
    "        --limitIObufferSize 50000000\n",
    "\n",
    "    center \"HISAT2\"\n",
    "    mkdir -p quant/hisat2/$SRA_FILE\n",
    "    hisat2 \\\n",
    "        -x \"index/hisat2/${SPECIES}_96/${SPECIES}\" \\\n",
    "        -U \"sradata/${SRA_FILE}.fastq\" \\\n",
    "        -p $thread_num \\\n",
    "        -S \"quant/hisat2/${SRA_FILE}/${SRA_FILE}.sam\"\n",
    "    featureCounts -T $thread_num -a \"reference/${SPECIES}_96.gtf\" -o \"quant/hisat2/${SRA_FILE}/${SRA_FILE}.tsv\" \"quant/hisat2/${SRA_FILE}/${SRA_FILE}.sam\"\n",
    "\n",
    "    center \"BWA\"\n",
    "    mkdir -p quant/bwa/$SRA_FILE\n",
    "    bwa mem \\\n",
    "        -t $thread_num \\\n",
    "        \"index/bwa/${SPECIES}_96/${SPECIES}_96\" \\\n",
    "        \"sradata/${SRA_FILE}.fastq\" \\\n",
    "        > \"quant/bwa/${SRA_FILE}/${SRA_FILE}.sam\"\n",
    "    featureCounts -T $thread_num -a \"reference/${SPECIES}_96.gtf\" -o \"quant/bwa/${SRA_FILE}/${SRA_FILE}.tsv\" \"quant/bwa/${SRA_FILE}/${SRA_FILE}.sam\"\n",
    "\n",
    "    Rscript --vanilla scripts/aggregatecounts.r $SRA_FILE $SPECIES\n",
    "}"
   ]
  },
  {
   "cell_type": "markdown",
   "metadata": {},
   "source": [
    "The following function alignes paired-end read files using Salmon, kallisto, STAR, HISAT2, and BWA. Once gene counts are computed they counts are aggregated into a combined gene count matrix."
   ]
  },
  {
   "cell_type": "code",
   "execution_count": null,
   "metadata": {},
   "outputs": [],
   "source": [
    "alignPairedSRA(){\n",
    "    SRA_FILE=$1\n",
    "    SPECIES=$2\n",
    "    \n",
    "    center \"Salmon\"\n",
    "    salmon quant -i \"index/salmon/salmon_${SPECIES}_96\" -l A \\\n",
    "        -1 \"sradata/${SRA_FILE}_1.fastq\" \\\n",
    "        -2 \"sradata/${SRA_FILE}_2.fastq\" \\\n",
    "        -p $thread_num -q --validateMappings -o quant/salmon/$SRA_FILE\n",
    "\n",
    "    center \"kallisto\"\n",
    "    kallisto quant -i index/kallisto/kallisto_${SPECIES}_96.idx \\\n",
    "        \"sradata/${SRA_FILE}_1.fastq\" \\\n",
    "        \"sradata/${SRA_FILE}_2.fastq\" \\\n",
    "        -t $thread_num -o quant/kallisto/$SRA_FILE\n",
    "\n",
    "    center \"STAR\"\n",
    "    mkdir -p quant/star/$SRA_FILE\n",
    "    STAR \\\n",
    "        --genomeDir \"index/star/${SPECIES}_96\" \\\n",
    "        --limitBAMsortRAM 10000000000 \\\n",
    "        --runThreadN $thread_num \\\n",
    "        --outSAMstrandField intronMotif \\\n",
    "        --outFilterIntronMotifs RemoveNoncanonical \\\n",
    "        --outFileNamePrefix quant/star/$SRA_FILE/$SRA_FILE \\\n",
    "        --readFilesIn \"sradata/${SRA_FILE}_1.fastq\" \"sradata/${SRA_FILE}_2.fastq\" \\\n",
    "        --outSAMtype BAM SortedByCoordinate \\\n",
    "        --outReadsUnmapped Fastx \\\n",
    "        --outSAMmode Full \\\n",
    "        --quantMode GeneCounts \\\n",
    "        --limitIObufferSize 50000000\n",
    "\n",
    "    center \"HISAT2\"\n",
    "    mkdir -p quant/hisat2/$SRA_FILE\n",
    "    hisat2 \\\n",
    "        -x \"index/hisat2/${SPECIES}_96/${SPECIES}\" \\\n",
    "        -1 \"sradata/${SRA_FILE}_1.fastq\" \\\n",
    "        -2 \"sradata/${SRA_FILE}_2.fastq\" \\\n",
    "        -p $thread_num \\\n",
    "        -S \"quant/hisat2/${SRA_FILE}/${SRA_FILE}.sam\"\n",
    "    featureCounts -T $thread_num -a \"reference/${SPECIES}_96.gtf\" -o \"quant/hisat2/${SRA_FILE}/${SRA_FILE}.tsv\" \"quant/hisat2/${SRA_FILE}/${SRA_FILE}.sam\"\n",
    "\n",
    "    center \"BWA\"\n",
    "    mkdir -p quant/bwa/$SRA_FILE\n",
    "    bwa mem \\\n",
    "        -t $thread_num \\\n",
    "        \"index/bwa/${SPECIES}_96/${SPECIES}_96\" \\\n",
    "        \"sradata/${SRA_FILE}_1.fastq\" \\\n",
    "        \"sradata/${SRA_FILE}_2.fastq\" \\\n",
    "        > \"quant/bwa/${SRA_FILE}/${SRA_FILE}.sam\"\n",
    "    featureCounts -T $thread_num -a \"reference/${SPECIES}_96.gtf\" -o \"quant/bwa/${SRA_FILE}/${SRA_FILE}.tsv\" \"quant/bwa/${SRA_FILE}/${SRA_FILE}.sam\"\n",
    "\n",
    "    Rscript --vanilla scripts/aggregatecounts.r $SRA_FILE $SPECIES\n",
    "}"
   ]
  },
  {
   "cell_type": "markdown",
   "metadata": {},
   "source": [
    "This will start the alignment process for all SRA files listed in the file."
   ]
  },
  {
   "cell_type": "code",
   "execution_count": null,
   "metadata": {},
   "outputs": [],
   "source": [
    "alignFile \"supportfiles/test/sra_list_human.txt\" \"human\""
   ]
  }
 ],
 "metadata": {
  "kernelspec": {
   "display_name": "Bash",
   "language": "bash",
   "name": "bash"
  },
  "language_info": {
   "codemirror_mode": "shell",
   "file_extension": ".sh",
   "mimetype": "text/x-sh",
   "name": "bash"
  }
 },
 "nbformat": 4,
 "nbformat_minor": 2
}
